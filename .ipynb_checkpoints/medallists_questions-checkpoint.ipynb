{
 "cells": [
  {
   "cell_type": "markdown",
   "id": "91897254-5948-40f3-9e91-f60161871296",
   "metadata": {},
   "source": [
    "# 2024 Olymptic Medelist Dataset"
   ]
  },
  {
   "cell_type": "markdown",
   "id": "865bc8c9",
   "metadata": {},
   "source": [
    "## 1. How many unique countries are represented in the dataset?\n",
    "*Hint: Use the `unique()` or `nunique()` function on the `country` or `country_long` column.*"
   ]
  },
  {
   "cell_type": "code",
   "execution_count": 65,
   "id": "031ad9e9",
   "metadata": {
    "tags": []
   },
   "outputs": [
    {
     "data": {
      "text/plain": [
       "92"
      ]
     },
     "execution_count": 65,
     "metadata": {},
     "output_type": "execute_result"
    }
   ],
   "source": [
    "import pandas as pd\n",
    "data=pd.read_csv(\"medallists.csv\")\n",
    "data.head()\n",
    "\n",
    "data[\"country\"].unique()\n",
    "\n",
    "data['country_long'].nunique()"
   ]
  },
  {
   "cell_type": "markdown",
   "id": "a78566bb",
   "metadata": {},
   "source": [
    "## 2. Which event had the most medalists?\n",
    "*Hint: Use `value_counts()` on the `event` column to determine the event with the highest number of medalists.*"
   ]
  },
  {
   "cell_type": "code",
   "execution_count": 33,
   "id": "57b2aee6",
   "metadata": {
    "tags": []
   },
   "outputs": [
    {
     "data": {
      "text/plain": [
       "'Men'"
      ]
     },
     "execution_count": 33,
     "metadata": {},
     "output_type": "execute_result"
    }
   ],
   "source": [
    "data[\"event\"].value_counts().idxmax()"
   ]
  },
  {
   "cell_type": "markdown",
   "id": "4c26c537",
   "metadata": {},
   "source": [
    "## 3. What is the gender distribution of the medalists?\n",
    "*Hint: Use `value_counts()` on the `gender` column.*"
   ]
  },
  {
   "cell_type": "code",
   "execution_count": 35,
   "id": "2c52e18a",
   "metadata": {
    "tags": []
   },
   "outputs": [
    {
     "data": {
      "text/plain": [
       "gender\n",
       "Female    1162\n",
       "Male      1153\n",
       "Name: count, dtype: int64"
      ]
     },
     "execution_count": 35,
     "metadata": {},
     "output_type": "execute_result"
    }
   ],
   "source": [
    "data[\"gender\"].value_counts()"
   ]
  },
  {
   "cell_type": "markdown",
   "id": "94d04b5b",
   "metadata": {},
   "source": [
    "## 4. How many athletes from Belgium won medals?\n",
    "*Hint: Filter on the `country_code` column with `BEL` and check the number of rows.*"
   ]
  },
  {
   "cell_type": "code",
   "execution_count": 37,
   "id": "80efb9eb",
   "metadata": {
    "tags": []
   },
   "outputs": [
    {
     "data": {
      "text/plain": [
       "10"
      ]
     },
     "execution_count": 37,
     "metadata": {},
     "output_type": "execute_result"
    }
   ],
   "source": [
    "#athletes=0\n",
    "#for i in data[data[\"country_code\"].str.contains(\"BEL\")]:\n",
    "    #athletes+=1\n",
    "\n",
    "#print(athletes)\n",
    "#data[(data.country_code==\"BEL\")&(data.is_medallist==\"TRUE\")]\n",
    "#data.country_code==\"BEL\"\n",
    "data_BEL = data[data.country_code==\"BEL\"]\n",
    "len(data_BEL)"
   ]
  },
  {
   "cell_type": "markdown",
   "id": "9cf977b1",
   "metadata": {},
   "source": [
    "## 5. What is the average age of gold medalists?\n",
    "*Hint: Filter for `Gold Medal` in the `medal_type` column, and calculate the difference between `medal_date` and `birth_date`.*"
   ]
  },
  {
   "cell_type": "code",
   "execution_count": 39,
   "id": "d29d7a44",
   "metadata": {},
   "outputs": [
    {
     "name": "stderr",
     "output_type": "stream",
     "text": [
      "/var/folders/52/tpv4fgrx5tz1dgs04zg1s3wr0000gn/T/ipykernel_8746/1312284273.py:2: SettingWithCopyWarning: \n",
      "A value is trying to be set on a copy of a slice from a DataFrame.\n",
      "Try using .loc[row_indexer,col_indexer] = value instead\n",
      "\n",
      "See the caveats in the documentation: https://pandas.pydata.org/pandas-docs/stable/user_guide/indexing.html#returning-a-view-versus-a-copy\n",
      "  data_GOLD['medal_date']=pd.to_datetime(data_GOLD[\"medal_date\"], format=\"mixed\")\n",
      "/var/folders/52/tpv4fgrx5tz1dgs04zg1s3wr0000gn/T/ipykernel_8746/1312284273.py:3: SettingWithCopyWarning: \n",
      "A value is trying to be set on a copy of a slice from a DataFrame.\n",
      "Try using .loc[row_indexer,col_indexer] = value instead\n",
      "\n",
      "See the caveats in the documentation: https://pandas.pydata.org/pandas-docs/stable/user_guide/indexing.html#returning-a-view-versus-a-copy\n",
      "  data_GOLD['birth_date']=pd.to_datetime(data_GOLD[\"birth_date\"], format=\"mixed\")\n"
     ]
    },
    {
     "data": {
      "text/plain": [
       "26.993351063829788"
      ]
     },
     "execution_count": 39,
     "metadata": {},
     "output_type": "execute_result"
    }
   ],
   "source": [
    "data_GOLD = data[data.medal_type==\"Gold Medal\"]\n",
    "data_GOLD['medal_date']=pd.to_datetime(data_GOLD[\"medal_date\"], format=\"mixed\")\n",
    "data_GOLD['birth_date']=pd.to_datetime(data_GOLD[\"birth_date\"], format=\"mixed\")\n",
    "data_agemean=data_GOLD['medal_date'].dt.year-data_GOLD['birth_date'].dt.year\n",
    "data_agemean.mean()"
   ]
  },
  {
   "cell_type": "markdown",
   "id": "026d88a6",
   "metadata": {},
   "source": [
    "## 6. List the names of all athletes who won a silver medal in a cycling event.\n",
    "*Hint: Filter by `medal_type` (Silver) and `discipline` (Cycling Road), then display the `name` column.*"
   ]
  },
  {
   "cell_type": "code",
   "execution_count": 89,
   "id": "215ab6f4",
   "metadata": {},
   "outputs": [
    {
     "data": {
      "text/plain": [
       "1         GANNA Filippo\n",
       "4        HENDERSON Anna\n",
       "267    MADOUAS Valentin\n",
       "336        VOS Marianne\n",
       "Name: name, dtype: object"
      ]
     },
     "execution_count": 89,
     "metadata": {},
     "output_type": "execute_result"
    }
   ],
   "source": [
    "data_SILVER = data[(data.medal_type==\"Silver Medal\") & (data.discipline==\"Cycling Road\")]\n",
    "data_SILVER[\"name\"]"
   ]
  },
  {
   "cell_type": "markdown",
   "id": "49ee100b",
   "metadata": {},
   "source": [
    "## 7. How many events did female athletes participate in?\n",
    "*Hint: Filter on `gender` (Female) and count the unique values in the `event` column.*"
   ]
  },
  {
   "cell_type": "code",
   "execution_count": 6,
   "id": "2d092dd5",
   "metadata": {},
   "outputs": [
    {
     "data": {
      "text/plain": [
       "150"
      ]
     },
     "execution_count": 6,
     "metadata": {},
     "output_type": "execute_result"
    }
   ],
   "source": [
    "data_FEMALE = data[data.gender==\"Female\"]\n",
    "data_FEMALE[\"event\"].nunique()"
   ]
  },
  {
   "cell_type": "markdown",
   "id": "5643d60e",
   "metadata": {},
   "source": [
    "## 8. Which country had the highest number of gold medals?\n",
    "*Hint: Filter for `Gold Medal` in the `medal_type` column and use `value_counts()` on the `country` column.*"
   ]
  },
  {
   "cell_type": "code",
   "execution_count": 138,
   "id": "ed09fc9e",
   "metadata": {},
   "outputs": [
    {
     "data": {
      "text/plain": [
       "country\n",
       "United States    134\n",
       "Name: count, dtype: int64"
      ]
     },
     "execution_count": 138,
     "metadata": {},
     "output_type": "execute_result"
    }
   ],
   "source": [
    "data_GOLD[\"country\"].value_counts().head(1)"
   ]
  },
  {
   "cell_type": "markdown",
   "id": "f982cb2a",
   "metadata": {},
   "source": [
    "## 9. What are the top three most common disciplines for male athletes?\n",
    "*Hint: Filter by `gender` (Male) and use `value_counts()` on the `discipline` column to get the top three.*"
   ]
  },
  {
   "cell_type": "code",
   "execution_count": 107,
   "id": "3c38804f",
   "metadata": {},
   "outputs": [
    {
     "data": {
      "text/plain": [
       "discipline\n",
       "Athletics    113\n",
       "Swimming     107\n",
       "Rowing        72\n",
       "Name: count, dtype: int64"
      ]
     },
     "execution_count": 107,
     "metadata": {},
     "output_type": "execute_result"
    }
   ],
   "source": [
    "data_top3=data[data.gender==\"Male\"]\n",
    "data_top3[\"discipline\"].value_counts().head(3)"
   ]
  },
  {
   "cell_type": "markdown",
   "id": "acc430dc",
   "metadata": {},
   "source": [
    "## 10. Find the youngest and oldest medalists in the dataset.\n",
    "*Hint: Calculate the difference between `medal_date` and `birth_date`, then use `min()` and `max()`.*"
   ]
  },
  {
   "cell_type": "code",
   "execution_count": 67,
   "id": "2072df5e-5c95-4dee-bef8-c2705bd005af",
   "metadata": {
    "tags": []
   },
   "outputs": [
    {
     "data": {
      "text/html": [
       "<div>\n",
       "<style scoped>\n",
       "    .dataframe tbody tr th:only-of-type {\n",
       "        vertical-align: middle;\n",
       "    }\n",
       "\n",
       "    .dataframe tbody tr th {\n",
       "        vertical-align: top;\n",
       "    }\n",
       "\n",
       "    .dataframe thead th {\n",
       "        text-align: right;\n",
       "    }\n",
       "</style>\n",
       "<table border=\"1\" class=\"dataframe\">\n",
       "  <thead>\n",
       "    <tr style=\"text-align: right;\">\n",
       "      <th></th>\n",
       "      <th>medal_date</th>\n",
       "      <th>medal_type</th>\n",
       "      <th>medal_code</th>\n",
       "      <th>name</th>\n",
       "      <th>gender</th>\n",
       "      <th>country_code</th>\n",
       "      <th>country</th>\n",
       "      <th>country_long</th>\n",
       "      <th>nationality_code</th>\n",
       "      <th>nationality</th>\n",
       "      <th>...</th>\n",
       "      <th>team</th>\n",
       "      <th>team_gender</th>\n",
       "      <th>discipline</th>\n",
       "      <th>event</th>\n",
       "      <th>event_type</th>\n",
       "      <th>url_event</th>\n",
       "      <th>birth_date</th>\n",
       "      <th>code_athlete</th>\n",
       "      <th>code_team</th>\n",
       "      <th>is_medallist</th>\n",
       "    </tr>\n",
       "  </thead>\n",
       "  <tbody>\n",
       "    <tr>\n",
       "      <th>1188</th>\n",
       "      <td>2024-08-03</td>\n",
       "      <td>Gold Medal</td>\n",
       "      <td>1.0</td>\n",
       "      <td>BOL Femke</td>\n",
       "      <td>Female</td>\n",
       "      <td>NED</td>\n",
       "      <td>Netherlands</td>\n",
       "      <td>Netherlands</td>\n",
       "      <td>NED</td>\n",
       "      <td>Netherlands</td>\n",
       "      <td>...</td>\n",
       "      <td>Netherlands</td>\n",
       "      <td>X</td>\n",
       "      <td>Athletics</td>\n",
       "      <td>4 x 400m Relay Mixed</td>\n",
       "      <td>TEAM</td>\n",
       "      <td>/en/paris-2024/results/athletics/4-x-400m-rela...</td>\n",
       "      <td>2000-02-23</td>\n",
       "      <td>1972078</td>\n",
       "      <td>ATHX4X400M--NED01</td>\n",
       "      <td>True</td>\n",
       "    </tr>\n",
       "  </tbody>\n",
       "</table>\n",
       "<p>1 rows × 21 columns</p>\n",
       "</div>"
      ],
      "text/plain": [
       "      medal_date  medal_type  medal_code       name  gender country_code  \\\n",
       "1188  2024-08-03  Gold Medal         1.0  BOL Femke  Female          NED   \n",
       "\n",
       "          country country_long nationality_code  nationality  ...  \\\n",
       "1188  Netherlands  Netherlands              NED  Netherlands  ...   \n",
       "\n",
       "             team team_gender discipline                 event event_type  \\\n",
       "1188  Netherlands           X  Athletics  4 x 400m Relay Mixed       TEAM   \n",
       "\n",
       "                                              url_event  birth_date  \\\n",
       "1188  /en/paris-2024/results/athletics/4-x-400m-rela...  2000-02-23   \n",
       "\n",
       "     code_athlete          code_team is_medallist  \n",
       "1188      1972078  ATHX4X400M--NED01         True  \n",
       "\n",
       "[1 rows x 21 columns]"
      ]
     },
     "execution_count": 67,
     "metadata": {},
     "output_type": "execute_result"
    }
   ],
   "source": [
    "data.sample()"
   ]
  },
  {
   "cell_type": "code",
   "execution_count": 77,
   "id": "cc7aac83-cf39-4cc8-882b-20286161d656",
   "metadata": {
    "tags": []
   },
   "outputs": [
    {
     "data": {
      "text/html": [
       "<div>\n",
       "<style scoped>\n",
       "    .dataframe tbody tr th:only-of-type {\n",
       "        vertical-align: middle;\n",
       "    }\n",
       "\n",
       "    .dataframe tbody tr th {\n",
       "        vertical-align: top;\n",
       "    }\n",
       "\n",
       "    .dataframe thead th {\n",
       "        text-align: right;\n",
       "    }\n",
       "</style>\n",
       "<table border=\"1\" class=\"dataframe\">\n",
       "  <thead>\n",
       "    <tr style=\"text-align: right;\">\n",
       "      <th></th>\n",
       "      <th>medal_date</th>\n",
       "      <th>medal_type</th>\n",
       "      <th>medal_code</th>\n",
       "      <th>name</th>\n",
       "      <th>gender</th>\n",
       "      <th>country_code</th>\n",
       "      <th>country</th>\n",
       "      <th>country_long</th>\n",
       "      <th>nationality_code</th>\n",
       "      <th>nationality</th>\n",
       "      <th>...</th>\n",
       "      <th>team</th>\n",
       "      <th>team_gender</th>\n",
       "      <th>discipline</th>\n",
       "      <th>event</th>\n",
       "      <th>event_type</th>\n",
       "      <th>url_event</th>\n",
       "      <th>birth_date</th>\n",
       "      <th>code_athlete</th>\n",
       "      <th>code_team</th>\n",
       "      <th>is_medallist</th>\n",
       "    </tr>\n",
       "  </thead>\n",
       "  <tbody>\n",
       "    <tr>\n",
       "      <th>2163</th>\n",
       "      <td>2024-08-11</td>\n",
       "      <td>Gold Medal</td>\n",
       "      <td>1.0</td>\n",
       "      <td>GRINER Brittney</td>\n",
       "      <td>Female</td>\n",
       "      <td>USA</td>\n",
       "      <td>United States</td>\n",
       "      <td>United States of America</td>\n",
       "      <td>USA</td>\n",
       "      <td>United States</td>\n",
       "      <td>...</td>\n",
       "      <td>United States of America</td>\n",
       "      <td>W</td>\n",
       "      <td>Basketball</td>\n",
       "      <td>Women</td>\n",
       "      <td>HTEAM</td>\n",
       "      <td>/en/paris-2024/results/basketball/women/fnl-00...</td>\n",
       "      <td>1990-10-18</td>\n",
       "      <td>1954735</td>\n",
       "      <td>BKBWTEAM5---USA01</td>\n",
       "      <td>True</td>\n",
       "    </tr>\n",
       "  </tbody>\n",
       "</table>\n",
       "<p>1 rows × 21 columns</p>\n",
       "</div>"
      ],
      "text/plain": [
       "      medal_date  medal_type  medal_code             name  gender  \\\n",
       "2163  2024-08-11  Gold Medal         1.0  GRINER Brittney  Female   \n",
       "\n",
       "     country_code        country              country_long nationality_code  \\\n",
       "2163          USA  United States  United States of America              USA   \n",
       "\n",
       "        nationality  ...                      team team_gender  discipline  \\\n",
       "2163  United States  ...  United States of America           W  Basketball   \n",
       "\n",
       "      event event_type                                          url_event  \\\n",
       "2163  Women      HTEAM  /en/paris-2024/results/basketball/women/fnl-00...   \n",
       "\n",
       "      birth_date code_athlete          code_team is_medallist  \n",
       "2163  1990-10-18      1954735  BKBWTEAM5---USA01         True  \n",
       "\n",
       "[1 rows x 21 columns]"
      ]
     },
     "execution_count": 77,
     "metadata": {},
     "output_type": "execute_result"
    }
   ],
   "source": [
    "data.sample()"
   ]
  },
  {
   "cell_type": "code",
   "execution_count": 83,
   "id": "f883224a",
   "metadata": {},
   "outputs": [
    {
     "data": {
      "text/plain": [
       "14"
      ]
     },
     "execution_count": 83,
     "metadata": {},
     "output_type": "execute_result"
    }
   ],
   "source": [
    "data['medal_date']=pd.to_datetime(data['medal_date'])\n",
    "data['birth_date']=pd.to_datetime(data['birth_date'])        \n",
    "\n",
    "data['age']=data['medal_date'].dt.year - data['birth_date'].dt.year\n",
    "\n",
    "data['age'].min()"
   ]
  },
  {
   "cell_type": "code",
   "execution_count": 85,
   "id": "429e9997-e7b2-4819-ac47-5244bc209fa9",
   "metadata": {
    "tags": []
   },
   "outputs": [
    {
     "data": {
      "text/plain": [
       "59"
      ]
     },
     "execution_count": 85,
     "metadata": {},
     "output_type": "execute_result"
    }
   ],
   "source": [
    "data['age'].max()"
   ]
  }
 ],
 "metadata": {
  "kernelspec": {
   "display_name": "Python 3 (ipykernel)",
   "language": "python",
   "name": "python3"
  },
  "language_info": {
   "codemirror_mode": {
    "name": "ipython",
    "version": 3
   },
   "file_extension": ".py",
   "mimetype": "text/x-python",
   "name": "python",
   "nbconvert_exporter": "python",
   "pygments_lexer": "ipython3",
   "version": "3.11.7"
  }
 },
 "nbformat": 4,
 "nbformat_minor": 5
}
